{
 "cells": [
  {
   "cell_type": "code",
   "execution_count": 32,
   "id": "1e5df471",
   "metadata": {},
   "outputs": [],
   "source": [
    "import torch\n",
    "import torch.nn as nn\n",
    "import torch.nn.functional as F\n",
    "from utils.prepare_data import create_mfcc_path_and_speaker_id,prepare_xvector_input_data\n",
    "from torch.utils.data import Dataset, DataLoader\n",
    "import numpy as np\n",
    "from torch.nn.utils.rnn import pad_sequence"
   ]
  },
  {
   "cell_type": "code",
   "execution_count": 33,
   "id": "c913d41e",
   "metadata": {},
   "outputs": [],
   "source": [
    "# create_mfcc_path_and_speaker_id(\"data/mfcc/dev\",\"data/mfcc_and_speaker_id/dev.txt\")\n",
    "# create_mfcc_path_and_speaker_id(\"data/mfcc/test\",\"data/mfcc_and_speaker_id/test.txt\")\n",
    "# create_mfcc_path_and_speaker_id(\"data/mfcc/dev-other\",\"data/mfcc_and_speaker_id/dev-other.txt\")\n",
    "# create_mfcc_path_and_speaker_id(\"data/mfcc/test-other\",\"data/mfcc_and_speaker_id/test-other.txt\")\n",
    "# create_mfcc_path_and_speaker_id(\"data/mfcc/train-100\",\"data/mfcc_and_speaker_id/train-100.txt\")\n",
    "# create_mfcc_path_and_speaker_id(\"data/mfcc/train-360\",\"data/mfcc_and_speaker_id/train-360.txt\")\n",
    "# create_mfcc_path_and_speaker_id(\"data/mfcc/train-500\",\"data/mfcc_and_speaker_id/train-500.txt\")"
   ]
  },
  {
   "cell_type": "code",
   "execution_count": 34,
   "id": "78e232b1",
   "metadata": {},
   "outputs": [],
   "source": [
    "files,user_ids = prepare_xvector_input_data(\"data/mfcc_and_speaker_id/dev.txt\")"
   ]
  },
  {
   "cell_type": "code",
   "execution_count": 35,
   "id": "eef9f340",
   "metadata": {},
   "outputs": [],
   "source": [
    "class XVectorDataset(Dataset):\n",
    "    def __init__(self, file_list, user_ids):\n",
    "        self.file_list = file_list\n",
    "        self.user_ids = user_ids\n",
    "        self.label2id = {label: idx for idx, label in enumerate(sorted(set(user_ids)))}\n",
    "        self.labels = [self.label2id[u] for u in user_ids]\n",
    "\n",
    "    def __len__(self):\n",
    "        return len(self.file_list)\n",
    "\n",
    "    def __getitem__(self, idx):\n",
    "        mfcc = np.load(self.file_list[idx])  # [T, F]\n",
    "        mfcc = mfcc.T  # [time, n_mfcc]\n",
    "        label = self.labels[idx]\n",
    "        return torch.tensor(mfcc, dtype=torch.float32), label\n",
    "\n",
    "def collate_fn(batch):\n",
    "    mfccs, labels = zip(*batch)\n",
    "    mfcc_lengths = torch.tensor([x.shape[0] for x in mfccs], dtype=torch.long)\n",
    "    mfccs_padded = pad_sequence(mfccs, batch_first=True)  # [B, max_T, F]\n",
    "    return mfccs_padded, labels\n"
   ]
  },
  {
   "cell_type": "code",
   "execution_count": 36,
   "id": "e7440a08",
   "metadata": {},
   "outputs": [],
   "source": [
    "dataset = XVectorDataset(files, user_ids)\n",
    "dataloader = DataLoader(dataset, batch_size=32, shuffle=True, collate_fn=collate_fn)"
   ]
  },
  {
   "cell_type": "code",
   "execution_count": 37,
   "id": "f0089e63",
   "metadata": {},
   "outputs": [
    {
     "name": "stdout",
     "output_type": "stream",
     "text": [
      "torch.Size([32, 735, 40])\n",
      "(28, 11, 25, 18, 29, 28, 8, 29, 1, 24, 34, 13, 1, 19, 19, 19, 9, 10, 4, 4, 24, 37, 25, 32, 17, 14, 25, 9, 12, 3, 7, 28)\n"
     ]
    }
   ],
   "source": [
    "for x, y in dataloader:\n",
    "    print(x.shape)  # [B, T, F]\n",
    "    print(y)  # [B]\n",
    "    break\n"
   ]
  },
  {
   "cell_type": "code",
   "execution_count": 38,
   "id": "d5cd4c17",
   "metadata": {},
   "outputs": [],
   "source": [
    "class XVector(nn.Module):\n",
    "    def __init__(self, input_dim, embedding_dim=256):\n",
    "        super(XVector, self).__init__()\n",
    "        \n",
    "        self.tdnn1 = nn.Conv1d(input_dim, 256, kernel_size=5, dilation=1)\n",
    "        self.tdnn2 = nn.Conv1d(256, 256, kernel_size=3, dilation=2)\n",
    "        self.tdnn3 = nn.Conv1d(256, 256, kernel_size=3, dilation=3)\n",
    "        self.tdnn4 = nn.Conv1d(256, 256, kernel_size=1)\n",
    "        self.tdnn5 = nn.Conv1d(256, 1500, kernel_size=1)\n",
    "\n",
    "        # Статистичний пулінг (по всій часовій осі)\n",
    "        self.stats_pooling = self._stats_pooling\n",
    "\n",
    "        # Повнозв’язні шари\n",
    "        self.fc1 = nn.Linear(3000, 256)\n",
    "        self.fc2 = nn.Linear(256, embedding_dim)\n",
    "\n",
    "    def _stats_pooling(self, x):\n",
    "        # x: [B, C, T]\n",
    "        mean = torch.mean(x, dim=2)\n",
    "        std = torch.std(x, dim=2)\n",
    "        return torch.cat((mean, std), dim=1)\n",
    "\n",
    "    def forward(self, x):\n",
    "        # x: [B, T, F] → [B, F, T]\n",
    "        x = x.transpose(1, 2)\n",
    "        x = F.relu(self.tdnn1(x))\n",
    "        x = F.relu(self.tdnn2(x))\n",
    "        x = F.relu(self.tdnn3(x))\n",
    "        x = F.relu(self.tdnn4(x))\n",
    "        x = F.relu(self.tdnn5(x))\n",
    "        \n",
    "        x = self.stats_pooling(x)  # [B, 3000]\n",
    "        x = F.relu(self.fc1(x))\n",
    "        embeddings = self.fc2(x)\n",
    "        return embeddings  # x-vector\n"
   ]
  },
  {
   "cell_type": "code",
   "execution_count": 39,
   "id": "d9823980",
   "metadata": {},
   "outputs": [],
   "source": [
    "model = XVector(input_dim=40, embedding_dim=256)\n",
    "mfcc = [...]"
   ]
  }
 ],
 "metadata": {
  "kernelspec": {
   "display_name": "venv",
   "language": "python",
   "name": "python3"
  },
  "language_info": {
   "codemirror_mode": {
    "name": "ipython",
    "version": 3
   },
   "file_extension": ".py",
   "mimetype": "text/x-python",
   "name": "python",
   "nbconvert_exporter": "python",
   "pygments_lexer": "ipython3",
   "version": "3.11.4"
  }
 },
 "nbformat": 4,
 "nbformat_minor": 5
}
