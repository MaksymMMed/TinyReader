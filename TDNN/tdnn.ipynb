{
 "cells": [
  {
   "cell_type": "code",
   "execution_count": null,
   "id": "d65329cc",
   "metadata": {},
   "outputs": [],
   "source": [
    "import torch\n",
    "import numpy as np\n",
    "import torch.nn.functional as F\n",
    "import torch.nn as nn\n",
    "import matplotlib.pyplot as plt\n",
    "from datetime import datetime\n",
    "from torch.optim.lr_scheduler import ReduceLROnPlateau\n",
    "from utils.prepare_data import prepare_mfcc, create_audio_path_and_text, read_phonemes, prepare_input_data, phonemes_to_ids\n",
    "from utils.helpers import check_cuda, model_wer, create_dataloader, ModelSaver\n",
    "import random\n"
   ]
  },
  {
   "cell_type": "code",
   "execution_count": 2,
   "id": "fb9f8e74",
   "metadata": {},
   "outputs": [
    {
     "name": "stdout",
     "output_type": "stream",
     "text": [
      "CUDA is available. Using GPU device: NVIDIA GeForce RTX 3050 Laptop GPU\n"
     ]
    }
   ],
   "source": [
    "mfcc_to_extract = 40\n",
    "device = check_cuda()\n",
    "\n",
    "# dev\n",
    "# train-100\n",
    "# train-360\n",
    "# train-500\n",
    "audio_to_train = \"train-360\""
   ]
  },
  {
   "cell_type": "code",
   "execution_count": 3,
   "id": "7d1bd174",
   "metadata": {},
   "outputs": [],
   "source": [
    "def set_seed(seed=42):\n",
    "    random.seed(seed)\n",
    "    np.random.seed(seed)\n",
    "    torch.manual_seed(seed)\n",
    "    torch.cuda.manual_seed_all(seed)\n",
    "    torch.backends.cudnn.deterministic = True\n",
    "    torch.backends.cudnn.benchmark = False\n",
    "\n",
    "set_seed(42)"
   ]
  },
  {
   "cell_type": "code",
   "execution_count": 4,
   "id": "52c27ed4",
   "metadata": {},
   "outputs": [],
   "source": [
    "# create_audio_path_and_text(\"audio/dev\",\"data/text_and_path/dev.txt\")\n",
    "# create_audio_path_and_text(\"audio/test\",\"data/text_and_path/test.txt\")\n",
    "# create_audio_path_and_text(\"audio/dev-other\",\"data/text_and_path/dev-other.txt\")\n",
    "# create_audio_path_and_text(\"audio/test-other\",\"data/text_and_path/test-other.txt\")\n",
    "# create_audio_path_and_text(\"audio/train-100\",\"data/text_and_path/train-100.txt\")\n",
    "#create_audio_path_and_text(\"audio/train-360\",\"data/text_and_path/train-360.txt\")\n",
    "# create_audio_path_and_text(\"audio/train-500\",\"data/text_and_path/train-500.txt\")"
   ]
  },
  {
   "cell_type": "code",
   "execution_count": 5,
   "id": "6169e94e",
   "metadata": {},
   "outputs": [],
   "source": [
    "# prepare_mfcc(audio_paths_file=\"data/text_and_path/dev.txt\", output=f\"data/mfcc/dev\")\n",
    "# prepare_mfcc(audio_paths_file=\"data/text_and_path/test.txt\", output=f\"data/mfcc/test\")\n",
    "# prepare_mfcc(audio_paths_file=\"data/text_and_path/dev-other.txt\", output=f\"data/mfcc/dev-other\")\n",
    "# prepare_mfcc(audio_paths_file=\"data/text_and_path/test-other.txt\", output=f\"data/mfcc/test-other\")\n",
    "# prepare_mfcc(audio_paths_file=\"data/text_and_path/train-100.txt\", output=f\"data/mfcc/train-100\")\n",
    "# prepare_mfcc(audio_paths_file=\"data/text_and_path/train-360.txt\", output=f\"data/mfcc/train-360\")\n",
    "# prepare_mfcc(audio_paths_file=\"data/text_and_path/train-500.txt\", output=f\"data/mfcc/train-500\")"
   ]
  },
  {
   "cell_type": "code",
   "execution_count": 6,
   "id": "b7758d46",
   "metadata": {},
   "outputs": [],
   "source": [
    "phonemes = read_phonemes(\"utils/phonemes.txt\")\n",
    "phoneme2id,id2phoneme = phonemes_to_ids(phonemes)\n",
    "\n",
    "train_mfcc_files, train_phoneme_targets = prepare_input_data(f\"data/mfcc/{audio_to_train}\")\n",
    "test_mfcc_files, test_phoneme_targets = prepare_input_data(f\"data/mfcc/test\")\n",
    "test_other_mfcc_files, test_other_phoneme_targets = prepare_input_data(f\"data/mfcc/test-other\")\n",
    "\n",
    "train_dataloader =  create_dataloader(train_mfcc_files, train_phoneme_targets, phoneme2id, batch_size=16,shuffle = True,num_work=4)\n",
    "test_dataloader = create_dataloader(test_mfcc_files, test_phoneme_targets, phoneme2id, batch_size=16)\n",
    "test_other_dataloader = create_dataloader(test_other_mfcc_files, test_other_phoneme_targets, phoneme2id, batch_size=16)"
   ]
  },
  {
   "cell_type": "code",
   "execution_count": 7,
   "id": "25058cca",
   "metadata": {},
   "outputs": [],
   "source": [
    "# навчання дітей читати, замість оцінки вимови,оцінювати складність речень, видавати по рівнях,гейміфікація\n",
    "# pip install torch torchvision torchaudio --index-url https://download.pytorch.org/whl/cu126"
   ]
  },
  {
   "cell_type": "code",
   "execution_count": null,
   "id": "fe2f4082",
   "metadata": {},
   "outputs": [],
   "source": [
    "class ResidualTDNNBlock(nn.Module):\n",
    "    def __init__(self, channels, kernel_size, dilation=1, dropout=None,bypass_scale = 0.5):\n",
    "        super().__init__()\n",
    "        self.tdnn1 = TDNNBlock(channels, channels, kernel_size, dilation, dropout)\n",
    "        self.tdnn2 = TDNNBlock(channels, channels, kernel_size, dilation, dropout)\n",
    "        self.bypass_scale = bypass_scale\n",
    "\n",
    "    def forward(self, x):\n",
    "        residual = x\n",
    "        out = self.tdnn1(x)\n",
    "        out = self.tdnn2(out)\n",
    "        return out + residual * self.bypass_scale\n",
    "\n",
    "class TDNNBlock(nn.Module):\n",
    "    def __init__(self, in_channels, out_channels, kernel_size, dilation=1, dropout=None, activation = True):\n",
    "        super().__init__()\n",
    "        padding = dilation * (kernel_size // 2)\n",
    "        self.conv = nn.Conv1d(in_channels, out_channels, kernel_size,\n",
    "                            dilation=dilation, padding=padding)\n",
    "        self.ln = nn.LayerNorm(out_channels)\n",
    "        self.relu = nn.ReLU() if activation is True else nn.Identity()# wer 17\n",
    "        self.dropout = nn.Dropout1d(dropout) if dropout is not None else nn.Identity()\n",
    "\n",
    "    def forward(self, x):  # x: [B, C_in, T]\n",
    "        out = self.conv(x)           # [B, C_out, T]\n",
    "        out = out.transpose(1,2)\n",
    "        out = self.ln(out)\n",
    "        out = out.transpose(1,2)\n",
    "        out = self.relu(out)\n",
    "        out = self.dropout(out)\n",
    "        return out\n",
    "\n",
    "class TDNN(nn.Module):\n",
    "    def __init__(self, input_dim, output_dim):\n",
    "        super(TDNN, self).__init__()\n",
    "        self.tdnn1 = TDNNBlock(input_dim, 400, kernel_size=7,dilation=1)\n",
    "        self.tdnn2 = TDNNBlock(400, 400, kernel_size=5, dilation=2,dropout=0.2)\n",
    "        self.tdnn3 = TDNNBlock(400, 400, kernel_size=5, dilation=3,dropout=0.3)\n",
    "        self.res1 = ResidualTDNNBlock(400, kernel_size=3, dilation=2)\n",
    "        self.res2 = ResidualTDNNBlock(400, kernel_size=3,dilation=1)\n",
    "        self.res3 = ResidualTDNNBlock(400, kernel_size=3,dilation=1)\n",
    "        self.tdnn4 = TDNNBlock(400, 300, kernel_size=1,dropout=0.3)\n",
    "        self.tdnn5 = TDNNBlock(300, 300, kernel_size=1,dropout=0.4)\n",
    "        self.tdnn6 = TDNNBlock(300, output_dim, kernel_size=1, activation = False)\n",
    " \n",
    "    def forward(self, x):  # x: [B, T, F]\n",
    "        x = x.transpose(1, 2)  # [B, F, T]\n",
    "        x = self.tdnn1(x)\n",
    "        x = self.tdnn2(x)\n",
    "        x = self.tdnn3(x)\n",
    "        x = self.res1(x)\n",
    "        x = self.res2(x)\n",
    "        x = self.res3(x)\n",
    "        x = self.tdnn4(x)\n",
    "        x = self.tdnn5(x)\n",
    "        x = self.tdnn6(x)\n",
    "        x = x.transpose(1, 2)  # [B, T, F]\n",
    "        return F.log_softmax(x, dim=-1)"
   ]
  },
  {
   "cell_type": "code",
   "execution_count": 10,
   "id": "478e512f",
   "metadata": {},
   "outputs": [],
   "source": [
    "saver = ModelSaver()\n",
    "num_epoch = 100"
   ]
  },
  {
   "cell_type": "code",
   "execution_count": 11,
   "id": "f13dae58",
   "metadata": {},
   "outputs": [],
   "source": [
    "def train_model(model,checkpoint_path = None):\n",
    "\n",
    "    #optimizer = torch.optim.AdamW(model.parameters(),weight_decay=1e-6)\n",
    "    optimizer = torch.optim.AdamW(model.parameters(),lr=1e-3, weight_decay=1e-2)\n",
    "    scheduler = ReduceLROnPlateau(optimizer, mode='min', patience=2, factor=0.5)\n",
    "    ctc_loss = nn.CTCLoss(blank=0)\n",
    "    timestamp = datetime.now().strftime(\"%Y-%m-%d_%H-%M\")\n",
    "    train_losses = []\n",
    "    val_losses = []\n",
    "    wers = []\n",
    "    best_wer = float('inf')\n",
    "    start_epoch = 1\n",
    "\n",
    "    if checkpoint_path is not None:\n",
    "        point_model,point_optimizer,point_scheduler,point_epoch,point_train_loss,point_val_loss,point_wers = saver.load_checkpoint(model=model,scheduler=scheduler,optimizer=optimizer,path = checkpoint_path)\n",
    "        \n",
    "        model = point_model\n",
    "        optimizer = point_optimizer\n",
    "        scheduler = point_scheduler\n",
    "        start_epoch = point_epoch\n",
    "        train_losses = point_train_loss\n",
    "        val_losses = point_val_loss\n",
    "        wers = point_wers\n",
    "\n",
    "        for curr_epoch, (train_loss, val_loss, wer) in enumerate(zip(train_losses, val_losses, wers)):\n",
    "            val = f\"Epoch:{curr_epoch+1} Loss: {train_loss:.4f}, Val Loss: {val_loss:.4f}, Wer: {wer:.4f}\"\n",
    "            saver.log(f\"{timestamp}/model_log.txt\", val)\n",
    "\n",
    "        print(f\"Continue learning from epoch: {point_epoch}\")\n",
    "        \n",
    "\n",
    "    try:\n",
    "        saver.clear_backup()\n",
    "        saver.save_structure(model, timestamp)\n",
    "        for epoch in range(start_epoch, num_epoch + 1):\n",
    "            model.train()\n",
    "            total_loss = 0\n",
    "\n",
    "            # Train losses\n",
    "            for mfccs_padded, targets_concat, mfcc_lengths, target_lengths in train_dataloader:\n",
    "                mfccs_padded = mfccs_padded.to(device)  # send B,T,F\n",
    "                targets_concat = targets_concat.to(device)\n",
    "                mfcc_lengths = mfcc_lengths.to(device)\n",
    "                target_lengths = target_lengths.to(device)\n",
    "\n",
    "                optimizer.zero_grad()\n",
    "                outputs = model(mfccs_padded)\n",
    "                log_probs = outputs.transpose(0, 1)\n",
    "                loss_train = ctc_loss(log_probs, targets_concat, mfcc_lengths, target_lengths)\n",
    "                loss_train.backward()\n",
    "                optimizer.step()\n",
    "                total_loss += loss_train.item()\n",
    "\n",
    "            train_losses.append(total_loss)\n",
    "\n",
    "            # Val losses\n",
    "            model.eval()\n",
    "            val_loss = 0\n",
    "            with torch.no_grad():\n",
    "                for mfccs_padded, targets_concat, mfcc_lengths, target_lengths in test_dataloader:\n",
    "                    mfccs_padded = mfccs_padded.to(device)  # send B,T,F\n",
    "                    targets_concat = targets_concat.to(device)\n",
    "                    mfcc_lengths = mfcc_lengths.to(device)\n",
    "                    target_lengths = target_lengths.to(device)\n",
    "                    outputs = model(mfccs_padded)\n",
    "                    log_probs = outputs.transpose(0, 1)\n",
    "                    loss_test = ctc_loss(log_probs, targets_concat, mfcc_lengths, target_lengths)\n",
    "                    val_loss += loss_test.item()\n",
    "\n",
    "            val_losses.append(val_loss)\n",
    "            scheduler.step(val_loss)\n",
    "\n",
    "            # Word Error Rate\n",
    "            wer = model_wer(model, device, test_dataloader, id2phoneme)\n",
    "            wers.append(wer)\n",
    "            # Save best model\n",
    "            if wer < best_wer:\n",
    "                best_wer = wer\n",
    "                wer_norm = int(round(wer * 100))\n",
    "                saver.save_best_checkpoint(model = model,optimizer=optimizer,scheduler=scheduler,epoch=epoch,\n",
    "                                        train_losses=train_losses,val_losses=val_losses,wers=wers,\n",
    "                                        name = f\"{timestamp}/point_wer-{wer_norm}_ep-{epoch}.pth\")\n",
    "\n",
    "            val = f\"Epoch:{epoch} Loss: {total_loss:.4f}, Val Loss: {val_loss:.4f}, Wer: {wer:.4f}\"\n",
    "            saver.log(f\"{timestamp}/model_log.txt\", val)\n",
    "            if epoch % 5 == 0 or epoch == 1 or epoch == num_epoch:\n",
    "                print(val)\n",
    "\n",
    "            # backup\n",
    "            if epoch % 2 == 0:\n",
    "                wer_norm = int(round(wer * 100))\n",
    "                saver.save_checkpoint(model = model,optimizer=optimizer,scheduler=scheduler,epoch=epoch,\n",
    "                                    train_losses=train_losses,val_losses=val_losses,wers=wers,\n",
    "                                    path = f\"backup/{timestamp}_point_wer-{wer_norm}_ep-{epoch}\")\n",
    "\n",
    "    except KeyboardInterrupt:\n",
    "        print(f\"Stopped on epoch №{epoch}\")\n",
    "\n",
    "    finally:\n",
    "        # Save final model\n",
    "        saver.save_checkpoint(model = model,scheduler=scheduler,optimizer=optimizer,epoch=epoch,\n",
    "                              train_losses=train_losses,val_losses=val_losses,wers=wers,\n",
    "                              path = f\"models/{timestamp}/point_final_ep-{epoch}\")\n",
    "        fig, axs = plt.subplots(1, 2, figsize=(14, 5))\n",
    "        axs[0].plot(train_losses, label='Train Loss')\n",
    "        axs[0].plot(val_losses, label='Val Loss')\n",
    "        axs[0].set_xlabel('Epoch')\n",
    "        axs[0].set_ylabel('Loss')\n",
    "        axs[0].set_title('CTC Loss over Epochs')\n",
    "        axs[0].legend()\n",
    "        axs[0].grid(True)\n",
    "\n",
    "        axs[1].plot(wers, label='Val WER', color='orange')\n",
    "        axs[1].set_xlabel('Epoch')\n",
    "        axs[1].set_ylabel('WER')\n",
    "        axs[1].set_title('WER over Epochs')\n",
    "        axs[1].legend()\n",
    "        axs[1].grid(True)\n",
    "\n",
    "        plt.tight_layout()\n",
    "        plt.savefig(f\"models/{timestamp}/model_{audio_to_train}_{timestamp}_ep-{epoch}.png\")\n",
    "        plt.show()"
   ]
  },
  {
   "cell_type": "code",
   "execution_count": 12,
   "id": "1feaae1a",
   "metadata": {},
   "outputs": [
    {
     "name": "stdout",
     "output_type": "stream",
     "text": [
      "Continue learning from epoch: 51\n",
      "Epoch:55 Loss: 2019.7260, Val Loss: 81.1665, Wer: 0.1200\n",
      "Epoch:60 Loss: 1968.7452, Val Loss: 81.3565, Wer: 0.1194\n",
      "Epoch:65 Loss: 1938.0727, Val Loss: 81.1270, Wer: 0.1197\n",
      "Stopped on epoch №69\n"
     ]
    },
    {
     "data": {
      "image/png": "[encoded data removed]",
      "text/plain": [
       "<Figure size 1400x500 with 2 Axes>"
      ]
     },
     "metadata": {},
     "output_type": "display_data"
    }
   ],
   "source": [
    "model = TDNN(mfcc_to_extract, len(phoneme2id)).to(device)\n",
    "#train_model(model)\n",
    "train_model(model = model,checkpoint_path= \"models/2025-07-21_23-30/point_final_ep-51\")"
   ]
  },
  {
   "cell_type": "code",
   "execution_count": 13,
   "id": "e163ad06",
   "metadata": {},
   "outputs": [
    {
     "name": "stdout",
     "output_type": "stream",
     "text": [
      "Real vs Predicted (first 5):\n",
      "\n",
      "1. Real: HH IY1 HH OW1 P T DH EH1 R W UH1 D B IY1 S T UW1 F R ER0 D IH1 N ER0 T ER1 N AH0 P S AH0 N D K EH1 R AH0 T S AH0 N D B R UW1 Z D P AH0 T EY1 T OW0 Z AH0 N D F AE1 T M AH1 T AH0 N P IY1 S IH0 Z T UW1 B IY1 L EY1 D AH0 L D AW1 T IH1 N TH IH1 K P EH1 P ER0 D F L AW1 R F AE1 T AH0 N D S AO1 S\n",
      "   Pred: HH IY1 HH OW1 P T DH EH1 R W UH1 D B IY1 S T UW1 F R ER0 D IH1 N ER0 T ER1 N IH1 P S AH0 N D K EH1 R AH0 T S EH1 N D B R UW1 Z D P AH0 T EY1 T OW2 Z AH0 N D F AE1 T M AH1 T AH0 N P IY1 S IH0 S T UW1 B IY1 L EY1 T AH0 L D AW1 T IH1 N DH IY0 TH IH1 K P EH1 P ER0 D F L AW1 ER0 F AE1 T AH0 N D S AO1 S\n",
      "\n",
      "2. Real: S T AH1 F IH1 T IH1 N T UW0 Y UW1 HH IH1 Z B EH1 L IY0 K AW1 N S AH0 L D IH0 M\n",
      "   Pred: S T AH1 F AH0 D AH0 N T UW0 Y UW1 HH IH1 Z B EH1 L IY0 K AW1 N S AH0 L D IH0 M\n",
      "\n",
      "3. Real: AE1 F T ER0 ER1 L IY0 N AY1 T F AO2 L DH IY0 Y EH1 L OW0 L AE1 M P S W UH1 D L AY1 T AH1 P HH IY1 R AH0 N D DH EH1 R DH IY0 S K W AA1 L AH0 D K W AO1 R T ER0 AH1 V DH IY0 B R AA1 TH AH0 L Z\n",
      "   Pred: AE1 F T ER0 ER1 L IY0 N AY1 T F AO1 L DH IY0 Y EH1 L OW0 L AE1 M P S W UH1 D L AY1 T AW1 P HH IY1 R AH0 N D DH EH1 R DH IY0 S K W AA1 L AH0 T K AO1 R T ER0 AH1 V DH IY0 B R AA1 F AH0 L Z\n",
      "\n",
      "4. Real: HH EH0 L OW1 B ER1 T IY0 EH1 N IY0 G UH1 D IH1 N Y UH1 R M AY1 N D\n",
      "   Pred: AH0 D AY1 B ER1 T IY0 AH0 N D IY0 G UH1 D IH1 N Y UH1 R M AY1 N D\n",
      "\n",
      "5. Real: N AH1 M B ER0 T EH1 N F R EH1 SH N EH1 L IY0 IH1 Z W EY1 T IH0 NG AO1 N Y UW1 G UH1 D N AY1 T HH AH1 Z B AH0 N D\n",
      "   Pred: N AH1 M B ER0 D AE1 N F R EH1 SH AH0 N AW1 IY1 EH1 Z W EY1 T IH0 NG AO1 N Y UW1 K UH1 D N AY1 T HH AH1 Z B AH0 N D\n"
     ]
    },
    {
     "data": {
      "text/plain": [
       "0.11933249869257223"
      ]
     },
     "execution_count": 13,
     "metadata": {},
     "output_type": "execute_result"
    }
   ],
   "source": [
    "# easier\n",
    "model_wer(model,device,test_dataloader,id2phoneme,show = True)"
   ]
  },
  {
   "cell_type": "code",
   "execution_count": 14,
   "id": "d922ed3e",
   "metadata": {},
   "outputs": [
    {
     "name": "stdout",
     "output_type": "stream",
     "text": [
      "Real vs Predicted (first 5):\n",
      "\n",
      "1. Real: DH EH1 R Z AY1 ER0 N DH EY1 S EY1 IH1 N AO1 L AW1 R B L AH1 D AH0 N D EY1 G R EY1 N ER0 T UW1 P ER0 HH AE1 P S IH1 Z G UH1 D B AH1 T HH IH1 Z HH IY1 M EY1 K S M IY1 HH AA1 R SH L IY0 F IY1 L HH AH0 Z G AA1 T EY1 L IH1 T AH0 L T UW1 M AH1 CH AH1 V S T IY1 L AE2 N AH0 N\n",
      "   Pred: DH EH1 T HH IH1 Z AY1 N D DH EY1 S EY1 IH1 N AO1 L D AA1 B L AH1 D AH0 N D EY1 G R EY1 N ER0 T UW1 P AE1 P S HH IH1 Z G UH1 D B AH1 T HH IH1 Z HH IY1 M EY1 K S M IY1 HH AA1 SH L IY0 D F IY1 L HH AH0 Z G AA1 T AH0 M IH1 T AH0 L T UW1 M AH1 CH AH1 V S T EY1 L AY1 N AO1 N\n",
      "\n",
      "2. Real: M AA1 R G R IH0 T S EH1 D M IH1 S T ER0 HH EY1 L EH1 Z HH IY1 R IY0 T ER1 N D F R AH1 M SH OW1 IH0 NG HH IH1 Z G EH1 S T D AW1 N S T EH1 R Z AY1 K UH1 D N AA1 T HH EH1 L P W AA1 CH IH0 NG Y UH1 R F EY1 S W IH1 TH S AH1 M AE0 NG Z AY1 AH0 T IY0 W IH1 N M IH1 S T ER0 TH AO1 R N T AH0 N M EY1 D HH IH1 Z K AH0 N F EH1 SH AH0 N AH1 V HH AE1 V IH0 NG B IH1 N EY1 SH AA1 P B OY1\n",
      "   Pred: M AA1 G ER0 IH0 D S EH1 D M IH1 T DH ER0 HH EY1 L EH1 Z HH IY1 R IY0 T ER1 N F R AH1 M SH OW1 N HH IY1 Z G AH0 S AW1 M S T EH1 Z EY1 K UH1 D AA1 T HH EH1 L P W AA1 CH IH0 NG UH1 R F EY1 S W IH1 TH S AH1 M IH0 NG Z AY1 AH0 T IY0 W IH1 N M IH1 S T ER0 TH AO1 N T AH0 N M EY1 D IY0 Z K AH0 N F IH1 SH AH0 N AH1 V HH AE1 V IH0 NG B IH1 N AH0 SH AA1 P B OY1\n",
      "\n",
      "3. Real: Y UW1 D OW1 N T M IY1 N DH AH0 T Y UW1 TH AO1 T M IY1 S OW1 S IH1 L IY0\n",
      "   Pred: Y UW1 T ER1 N M IY1 N DH AH0 T Y UW1 TH AO1 L T M IY1 S OW1 S IH1 L IY0\n",
      "\n",
      "4. Real: AY1 R IY1 L IY0 L AY1 K T DH AH0 T AH0 K AW1 N T AH1 V HH IH0 M S EH1 L F B EH1 T ER0 DH AH0 N EH1 N IY0 TH IH2 NG EH1 L S HH IY1 S EH1 D\n",
      "   Pred: AY1 R IY0 L IY0 L AY1 K B AH0 T AH0 K AW1 N T AH1 V HH IH0 M S EH1 L F B AH1 T SH AH1 DH AH0 N EH1 N IY0 TH IH2 NG EH1 L Z HH IY1 S EH1 D\n",
      "\n",
      "5. Real: HH IH1 Z S T EY1 T M AH0 N T AH1 V HH AE1 V IH0 NG B IH1 N EY1 SH AA1 P B OY1 W AO1 Z DH IY0 TH IH1 NG AY1 L AY1 K T B EH1 S T AH1 V AO1 L\n",
      "   Pred: HH IY1 S T EY1 T M AH0 N AH1 V HH AE1 V IH0 NG B IH1 N EY1 SH AA1 P B OY1 W AO1 Z DH IY0 TH IH1 NG AA1 L AH0 K B EH1 S T AH1 V AO1 R\n"
     ]
    },
    {
     "data": {
      "text/plain": [
       "0.29840201757670537"
      ]
     },
     "execution_count": 14,
     "metadata": {},
     "output_type": "execute_result"
    }
   ],
   "source": [
    "# harder\n",
    "model_wer(model,device,test_other_dataloader,id2phoneme,show = True)"
   ]
  },
  {
   "cell_type": "code",
   "execution_count": null,
   "id": "f645a6cd",
   "metadata": {},
   "outputs": [],
   "source": [
    "# training data\n",
    "model_wer(model,device,train_dataloader,id2phoneme,show = True)"
   ]
  },
  {
   "cell_type": "code",
   "execution_count": null,
   "id": "cddb749b",
   "metadata": {},
   "outputs": [],
   "source": [
    "# import numpy as np\n",
    "# mode = \"dev\"\n",
    "# file_num = 14\n",
    "\n",
    "# test_files = []\n",
    "\n",
    "# with open(f\"data/mfcc/{mode}/trans.txt\", \"r\", encoding=\"utf-8\") as f:\n",
    "#     for line in f:\n",
    "#         parts = line.strip().split('\\t')  \n",
    "#         test_files.append(parts)\n",
    "\n",
    "# mfcc = np.load(f\"data/mfcc/{mode}/{test_files[file_num][0]}\")\n",
    "# mfcc = mfcc.T  # [time, n_mfcc]\n",
    "\n",
    "# mfcc_tensor = torch.tensor(mfcc, dtype=torch.float32).unsqueeze(0).to(device)  # [1, time, n_mfcc]\n",
    "# mfcc_tensor = mfcc_tensor.transpose(1, 2)  # [1, n_mfcc, time]\n",
    "\n",
    "\n",
    "# with torch.no_grad():\n",
    "#     output = model(mfcc_tensor)  # [1, time, classes]\n",
    "#     pred = torch.argmax(output, dim=-1)[0]  # [time]\n",
    "\n",
    "# def ctc_decode(pred, blank=0):\n",
    "#     decoded = []\n",
    "#     prev = None\n",
    "#     for p in pred.cpu().numpy():\n",
    "#         if p != blank and p != prev:\n",
    "#             decoded.append(p)\n",
    "#         prev = p\n",
    "#     return decoded\n",
    "\n",
    "# pred_ids = ctc_decode(pred)\n",
    "# decoded_phonemes = [id2phoneme[i] for i in pred_ids]\n",
    "\n",
    "# val = test_files[file_num][1]\n",
    "# val = val.replace(\"'\", \"\")\n",
    "# val = val.replace(\",\", \"\")\n",
    "# val = val[1:-1]\n",
    "\n",
    "# print(f\"filename {test_files[file_num][0]}\")\n",
    "# print(f\" Expected: {val}\")\n",
    "# print(\"Predicted:\", \" \".join(decoded_phonemes))"
   ]
  }
 ],
 "metadata": {
  "kernelspec": {
   "display_name": "venv",
   "language": "python",
   "name": "python3"
  },
  "language_info": {
   "codemirror_mode": {
    "name": "ipython",
    "version": 3
   },
   "file_extension": ".py",
   "mimetype": "text/x-python",
   "name": "python",
   "nbconvert_exporter": "python",
   "pygments_lexer": "ipython3",
   "version": "3.11.4"
  }
 },
 "nbformat": 4,
 "nbformat_minor": 5
}
